{
 "cells": [
  {
   "cell_type": "markdown",
   "id": "d0aff191",
   "metadata": {},
   "source": [
    "# Forest Cover Type Prediction Project"
   ]
  },
  {
   "cell_type": "markdown",
   "id": "ddb1a2fe",
   "metadata": {},
   "source": [
    "Cell 1 - Importing necessary libraries"
   ]
  },
  {
   "cell_type": "code",
   "execution_count": null,
   "id": "f3d4fc33",
   "metadata": {},
   "outputs": [],
   "source": [
    "import numpy as np\n",
    "import pandas as pd"
   ]
  },
  {
   "cell_type": "markdown",
   "id": "42cf1fcd",
   "metadata": {},
   "source": [
    "Cell 2 - Reading and importing data"
   ]
  },
  {
   "cell_type": "code",
   "execution_count": null,
   "id": "8c59fcf4",
   "metadata": {},
   "outputs": [],
   "source": [
    "dataset = pd.read_csv('train.csv')\n",
    "# print(dataset.head())"
   ]
  },
  {
   "cell_type": "markdown",
   "id": "8d3e674d",
   "metadata": {},
   "source": [
    "Cell 3 - Allocating features to the variables"
   ]
  },
  {
   "cell_type": "code",
   "execution_count": null,
   "id": "5c37ca1c",
   "metadata": {},
   "outputs": [],
   "source": [
    "X = dataset.iloc[:, :-1]\n",
    "y = dataset.iloc[:, -1]"
   ]
  },
  {
   "cell_type": "markdown",
   "id": "7d2ac101",
   "metadata": {},
   "source": [
    "Cell 4 - Splitting the data for training and testing"
   ]
  },
  {
   "cell_type": "code",
   "execution_count": null,
   "id": "e6ea9d84",
   "metadata": {},
   "outputs": [],
   "source": [
    "from sklearn.model_selection import train_test_split\n",
    "X_train, X_test, y_train, y_test = train_test_split(X,y, test_size=0.2, random_state=0)"
   ]
  },
  {
   "cell_type": "markdown",
   "id": "30be34c0",
   "metadata": {},
   "source": [
    "Cell 5 - Implementing RandomForest and getting predictions"
   ]
  },
  {
   "cell_type": "code",
   "execution_count": null,
   "id": "6b27d30a",
   "metadata": {},
   "outputs": [],
   "source": [
    "from sklearn.ensemble import RandomForestClassifier\n",
    "model = RandomForestClassifier()\n",
    "model.fit(X_train,y_train)\n",
    "y_pred = model.predict(X_test)\n",
    "print('Predictions:', y_pred)"
   ]
  },
  {
   "cell_type": "markdown",
   "id": "51d4e1b0",
   "metadata": {},
   "source": [
    "Cell 6 - Evaluation of the Model"
   ]
  },
  {
   "cell_type": "code",
   "execution_count": null,
   "id": "db8b6686",
   "metadata": {},
   "outputs": [],
   "source": [
    "from sklearn.metrics import roc_auc_score\n",
    "y_pred_proba = model.predict_proba(X_test)\n",
    "\n",
    "roc_auc = roc_auc_score(y_test, y_pred_proba, multi_class='ovr')\n",
    "print(\"ROC AUC Score (OvR):\", roc_auc)\n",
    "\n",
    "from sklearn.metrics import precision_score, recall_score\n",
    "print('Precision:', precision_score(y_test,y_pred, average='weighted'))\n",
    "print('Recall:', recall_score(y_test,y_pred, average='weighted'))"
   ]
  },
  {
   "cell_type": "markdown",
   "id": "71fc33e6",
   "metadata": {},
   "source": [
    "Cell 7 - Taking user input"
   ]
  },
  {
   "cell_type": "code",
   "execution_count": null,
   "id": "19a03392",
   "metadata": {},
   "outputs": [],
   "source": [
    "elevation = int(input('Enter elevation in meters:'))\n",
    "aspect = int(input('Enter aspect in degrees:'))\n",
    "slope = int(input('Enter slope in degrees:'))\n",
    "horizontal_distance_to_hydrology = int(input('Enter horizontal dist to nearest surface water features:'))\n",
    "vertical_distance_to_hydrology = int(input('Enter vertical dist to nearest surface water features:'))\n",
    "horizontal_distance_to_roadways = int(input('Enter horizontal dist to nearest roadway:'))\n",
    "hillshade_9am = int(input('Enter hillshade index at 9am:'))\n",
    "hillshade_noon = int(input('Enter hillshade index at noon:'))\n",
    "hillshade_3pm = int(input('Enter hillshade index at 3pm:'))\n",
    "horizontal_distance_to_fire_points = int(input('Enter horizontal dist to nearest wildfire ignition points:'))\n",
    "wildernessArea = int(input('Enter wilderness area designation(1-4):'))\n",
    "soil_type = int(input('Enter type of soil(1-40):'))"
   ]
  },
  {
   "cell_type": "markdown",
   "id": "01396107",
   "metadata": {},
   "source": [
    "Cell 8 - Mapping the values of the encoded variables manually"
   ]
  },
  {
   "cell_type": "code",
   "execution_count": null,
   "id": "d62c4447",
   "metadata": {},
   "outputs": [],
   "source": [
    "wildernessArea_encoded = [0,0,0,0]\n",
    "if wildernessArea == 1:\n",
    "    wildernessArea_encoded[0] = 1\n",
    "elif wildernessArea == 2:\n",
    "    wildernessArea_encoded[1] = 1\n",
    "elif wildernessArea == 3:\n",
    "    wildernessArea_encoded[2] = 1\n",
    "else:\n",
    "    wildernessArea_encoded[3] = 1\n",
    "\n",
    "soil_type_encoded = [0] * 40  \n",
    "if 1 <= soil_type <= 40:\n",
    "    soil_type_encoded[soil_type - 1] = 1 "
   ]
  },
  {
   "cell_type": "markdown",
   "id": "1444f9aa",
   "metadata": {},
   "source": [
    "Cell 9 -  Converting the user input into valid input for predictions and getting the predictions"
   ]
  },
  {
   "cell_type": "code",
   "execution_count": null,
   "id": "f4882e6e",
   "metadata": {},
   "outputs": [],
   "source": [
    "user_input = [elevation,aspect,slope,\n",
    "            horizontal_distance_to_hydrology,vertical_distance_to_hydrology,horizontal_distance_to_roadways,\n",
    "            hillshade_9am,hillshade_noon,hillshade_3pm,\n",
    "            horizontal_distance_to_fire_points] + wildernessArea_encoded + soil_type_encoded\n",
    "\n",
    "user_input = np.array(user_input).reshape(1, -1)\n",
    "\n",
    "predictions = model.predict(user_input)\n",
    "print('Predictions:', predictions)"
   ]
  }
 ],
 "metadata": {
  "language_info": {
   "name": "python"
  }
 },
 "nbformat": 4,
 "nbformat_minor": 5
}
